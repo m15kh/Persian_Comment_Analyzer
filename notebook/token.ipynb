{
 "cells": [
  {
   "cell_type": "code",
   "execution_count": null,
   "metadata": {
    "vscode": {
     "languageId": "plaintext"
    }
   },
   "outputs": [],
   "source": [
    "from dadmatools.normalizer import Normalizer\n",
    "\n",
    "normalizer = Normalizer(\n",
    "    full_cleaning=False,\n",
    "    unify_chars=True,\n",
    "    refine_punc_spacing=True,\n",
    "    remove_extra_space=True,\n",
    "    remove_puncs=False,\n",
    "    remove_html=False,\n",
    "    remove_stop_word=False,\n",
    "    replace_email_with=\"<EMAIL>\",\n",
    "    replace_number_with=None,\n",
    "    replace_url_with=\"\",\n",
    "    replace_mobile_number_with=None,\n",
    "    replace_emoji_with=None,\n",
    "    replace_home_number_with=None\n",
    ")\n",
    "\n",
    "text = \"\"\"\n",
    "<p>\n",
    "دادماتولز اولین نسخش سال ۱۴۰۰ منتشر شده. \n",
    "امیدواریم که این تولز بتونه کار با متن رو براتون شیرین‌تر و راحت‌تر کنه\n",
    "لطفا با ایمیل dadmatools@dadmatech.ir با ما در ارتباط باشید\n",
    "آدرس گیت‌هاب هم که خب معرف حضور مبارک هست:\n",
    " https://github.com/Dadmatech/DadmaTools\n",
    "</p>\n",
    "\"\"\"\n",
    "normalized_text = normalizer.normalize(text)\n",
    "# <p> دادماتولز اولین نسخش سال 1400 منتشر شده. امیدواریم که این تولز بتونه کار با متن رو براتون شیرین‌تر و راحت‌تر کنه لطفا با ایمیل <EMAIL> با ما در ارتباط باشید آدرس گیت‌هاب هم که خب معرف حضور مبارک هست: </p>\n",
    "\n",
    "# full cleaning\n",
    "normalizer = Normalizer(full_cleaning=True)\n",
    "normalized_text = normalizer.normalize(text)\n",
    "# دادماتولز نسخش سال منتشر تولز بتونه کار متن براتون شیرین‌تر راحت‌تر کنه ایمیل ارتباط آدرس گیت‌هاب معرف حضور مبارک\n"
   ]
  },
  {
   "cell_type": "code",
   "execution_count": null,
   "metadata": {
    "vscode": {
     "languageId": "plaintext"
    }
   },
   "outputs": [],
   "source": []
  },
  {
   "cell_type": "markdown",
   "metadata": {},
   "source": []
  }
 ],
 "metadata": {
  "language_info": {
   "name": "python"
  }
 },
 "nbformat": 4,
 "nbformat_minor": 2
}
